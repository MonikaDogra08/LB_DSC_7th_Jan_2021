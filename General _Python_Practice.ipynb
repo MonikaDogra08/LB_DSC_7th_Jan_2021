{
 "cells": [
  {
   "cell_type": "code",
   "execution_count": null,
   "id": "015616a2",
   "metadata": {},
   "outputs": [],
   "source": [
    "Jupyter notebook is used as:\n",
    "    1. IDE  : can develop editor application\n",
    "    2. interpreter  : in annaconda promt(cmd) can use it as interpreter...line by line execution"
   ]
  },
  {
   "cell_type": "code",
   "execution_count": null,
   "id": "26108b5a",
   "metadata": {},
   "outputs": [],
   "source": [
    "Declare the following variables:\n",
    "Int, Float, Boolean, String & print its value.\n",
    " Program to calculate the Area Of Triangle:\n",
    " Program to swap two variables:\n",
    " Program is to check if a number is positive, negative \n",
    "or 0 (Using If…elif…else).\n",
    " Program is to check if a number is Even or Odd:\n",
    " Program to print Odd number within a given range:\n",
    " Python program to find the factorial of a number:\n",
    " Program to reverse a given number:\n",
    " Program to find out the sum of Natural numbers:"
   ]
  },
  {
   "cell_type": "code",
   "execution_count": 4,
   "id": "31025ff1",
   "metadata": {},
   "outputs": [
    {
     "name": "stdout",
     "output_type": "stream",
     "text": [
      "23\n",
      "23.0\n",
      "23\n",
      "True\n",
      "23 is type of <class 'int'>\n"
     ]
    }
   ],
   "source": [
    "value = 23\n",
    "print(int(value))\n",
    "print(float(value))\n",
    "print(str(value))\n",
    "print(bool(value))\n",
    "print(value,\"is type of\",type(value))"
   ]
  },
  {
   "cell_type": "code",
   "execution_count": 5,
   "id": "d7f91768",
   "metadata": {},
   "outputs": [
    {
     "name": "stdout",
     "output_type": "stream",
     "text": [
      "23.0 is type of <class 'float'>\n"
     ]
    }
   ],
   "source": [
    "b =23.0\n",
    "print(b,\"is type of\",type(b))"
   ]
  },
  {
   "cell_type": "code",
   "execution_count": 8,
   "id": "e0ad65cf",
   "metadata": {},
   "outputs": [
    {
     "name": "stdout",
     "output_type": "stream",
     "text": [
      "1st side is:23\n",
      "2nd side is:34\n",
      "3rd side is:53\n",
      "Area of triangle is: 55.0\n"
     ]
    }
   ],
   "source": [
    "#  s= (a + b + c) / 2\n",
    "a = eval(input(\"1st side is:\"))\n",
    "b =eval(input(\"2nd side is:\"))\n",
    "c = eval(input(\"3rd side is:\"))\n",
    "s = (a+b+c)/2\n",
    "print(\"Area of triangle is:\",s)"
   ]
  },
  {
   "cell_type": "code",
   "execution_count": 9,
   "id": "ff884ada",
   "metadata": {},
   "outputs": [
    {
     "name": "stdout",
     "output_type": "stream",
     "text": [
      "Now value of a is: 200 and value of b is: 100\n"
     ]
    }
   ],
   "source": [
    "a =100\n",
    "b =200\n",
    "temp = a\n",
    "a=b\n",
    "b =temp\n",
    "print(\"Now value of a is:\",a,\"and value of b is:\",b)"
   ]
  },
  {
   "cell_type": "code",
   "execution_count": 10,
   "id": "7ff85a4f",
   "metadata": {},
   "outputs": [
    {
     "name": "stdout",
     "output_type": "stream",
     "text": [
      "200 100\n"
     ]
    }
   ],
   "source": [
    "a =100\n",
    "b =200\n",
    "a= a+b\n",
    "b= a-b\n",
    "a = a-b\n",
    "print(a,b)"
   ]
  },
  {
   "cell_type": "code",
   "execution_count": 11,
   "id": "c9f27c54",
   "metadata": {},
   "outputs": [
    {
     "name": "stdout",
     "output_type": "stream",
     "text": [
      "Enter a number:32\n",
      "Number is Positive\n"
     ]
    }
   ],
   "source": [
    "# Program is to check if a number is positive, or 0 (Using If…elif…else).\n",
    "num = eval(input(\"Enter a number:\"))\n",
    "\n",
    "if num==0:\n",
    "    print(\"Number is Zero\")\n",
    "elif num<0:\n",
    "    print(\"Number is negative\")\n",
    "else:\n",
    "    print(\"Number is Positive\")"
   ]
  },
  {
   "cell_type": "code",
   "execution_count": 12,
   "id": "862bcea5",
   "metadata": {},
   "outputs": [
    {
     "name": "stdout",
     "output_type": "stream",
     "text": [
      "Enter a number:2\n",
      "Positive\n"
     ]
    }
   ],
   "source": [
    "num = eval(input(\"Enter a number:\"))\n",
    "\n",
    "if num>=0:\n",
    "    if num==0:\n",
    "        print(\"Zero\")\n",
    "    else:\n",
    "        print(\"Positive\")\n",
    "else:\n",
    "    print(\"Negative\")"
   ]
  },
  {
   "cell_type": "code",
   "execution_count": 13,
   "id": "df914450",
   "metadata": {},
   "outputs": [
    {
     "name": "stdout",
     "output_type": "stream",
     "text": [
      "Enter a number:34\n",
      "number is even\n"
     ]
    }
   ],
   "source": [
    "# Program is to check if a number is Even or Odd:\n",
    "num1 = eval(input(\"Enter a number:\"))\n",
    "\n",
    "if num1%2==0:\n",
    "    print(\"number is even\")\n",
    "else:\n",
    "    print(\"number is odd\")"
   ]
  },
  {
   "cell_type": "code",
   "execution_count": 15,
   "id": "691a14e6",
   "metadata": {},
   "outputs": [
    {
     "name": "stdout",
     "output_type": "stream",
     "text": [
      "Enter a range:9\n",
      "1\n",
      "3\n",
      "5\n",
      "7\n"
     ]
    }
   ],
   "source": [
    "# Program to print Odd number within a given range:\n",
    "num1 = eval(input(\"Enter a range:\"))\n",
    "\n",
    "for i in range(1,num1):\n",
    "    if i%2!=0:\n",
    "        print(i)"
   ]
  },
  {
   "cell_type": "code",
   "execution_count": 46,
   "id": "50034cb3",
   "metadata": {},
   "outputs": [
    {
     "name": "stdout",
     "output_type": "stream",
     "text": [
      "Enter a num:6\n",
      "6x5=30\n",
      "30x4=120\n",
      "120x3=360\n",
      "360x2=720\n"
     ]
    }
   ],
   "source": [
    "#  Python program to find the factorial of a number:\n",
    "\n",
    "# 4*3*2*1 =24\n",
    "# 4*3 =12\n",
    "# 12*2 = 24\n",
    "# 24*1 = 24\n",
    "fect_num= eval(input(\"Enter a num:\"))\n",
    "result = fect_num\n",
    "for i in range(fect_num-1,1,-1):\n",
    "    print(f\"{result}x{i}={result*i}\")\n",
    "    result = result*i"
   ]
  },
  {
   "cell_type": "code",
   "execution_count": 48,
   "id": "57f0104e",
   "metadata": {},
   "outputs": [
    {
     "data": {
      "text/plain": [
       "720"
      ]
     },
     "execution_count": 48,
     "metadata": {},
     "output_type": "execute_result"
    }
   ],
   "source": [
    "def recur_factorial (n):\n",
    " \"\"\"Function to return the factorial\n",
    " of a number using recursion\"\"\"\n",
    " if n == 1:\n",
    "     return n\n",
    " else:\n",
    "     return n*recur_factorial (n-1)\n",
    "recur_factorial(6)"
   ]
  },
  {
   "cell_type": "code",
   "execution_count": 56,
   "id": "d189447e",
   "metadata": {},
   "outputs": [
    {
     "name": "stdout",
     "output_type": "stream",
     "text": [
      "42321\n"
     ]
    }
   ],
   "source": [
    "# Program to reverse a given number:\n",
    "num = \"12324\"\n",
    "print(num[-1::-1])"
   ]
  },
  {
   "cell_type": "code",
   "execution_count": 71,
   "id": "31623397",
   "metadata": {},
   "outputs": [
    {
     "name": "stdout",
     "output_type": "stream",
     "text": [
      "Enter a num:1234\n",
      "4321\n"
     ]
    }
   ],
   "source": [
    "num2 = eval(input(\"Enter a num:\"))\n",
    "\n",
    "rev = 0\n",
    "while(num2>0):\n",
    "    dig = num2%10\n",
    "    rev = rev*10+dig\n",
    "    num2 = num2//10\n",
    "print(rev)"
   ]
  },
  {
   "cell_type": "code",
   "execution_count": 78,
   "id": "059aa556",
   "metadata": {},
   "outputs": [
    {
     "name": "stdout",
     "output_type": "stream",
     "text": [
      "Enter a num:14\n",
      "105\n"
     ]
    }
   ],
   "source": [
    "#  Program to find out the sum of Natural numbers:\n",
    "num_n = eval(input(\"Enter a num:\"))\n",
    "result =0\n",
    "for i in range(1,num_n+1):\n",
    "    result = result+i\n",
    "print(result)"
   ]
  },
  {
   "cell_type": "code",
   "execution_count": 73,
   "id": "e44c5fa3",
   "metadata": {},
   "outputs": [
    {
     "name": "stdout",
     "output_type": "stream",
     "text": [
      "Enter a num:14\n",
      "105\n"
     ]
    }
   ],
   "source": [
    "num_n = eval(input(\"Enter a num:\"))\n",
    "result =0\n",
    "while(num_n>0):\n",
    "    result +=num_n\n",
    "    num_n-=1\n",
    "    \n",
    "print(result)"
   ]
  },
  {
   "cell_type": "code",
   "execution_count": 79,
   "id": "e4ec67da",
   "metadata": {},
   "outputs": [],
   "source": [
    "# for i in range(1,14):\n",
    "#     print(i)"
   ]
  },
  {
   "cell_type": "code",
   "execution_count": null,
   "id": "53b00907",
   "metadata": {},
   "outputs": [],
   "source": [
    "Strings:\n",
    "Program to reverse a string without using \n",
    "recursion:\n",
    "Program to check if string is palindrome or not:\n",
    "Python Program to Replace all Occurrences of ‘a’ \n",
    "with $ in a String:\n",
    "Python Program to Count the Number of Vowels \n",
    "in a String\n",
    "Input Two Strings and Display the Larger String \n",
    "without Using Built-in Functions:\n",
    "Count the number of digits & letter in a string:\n",
    "Count Number of Lowercase Characters in a \n",
    "String:\n",
    "Program to check if a Substring is Present in a \n",
    "Given String"
   ]
  },
  {
   "cell_type": "code",
   "execution_count": 92,
   "id": "ce9f62f9",
   "metadata": {},
   "outputs": [],
   "source": [
    "# Program to reverse a string without using \n",
    "# recursion:\n",
    "\n",
    "name = \"monika\"\n",
    "# reverse(name)\n",
    "# print(name[::-1])\n",
    "\n",
    " "
   ]
  },
  {
   "cell_type": "code",
   "execution_count": 89,
   "id": "c3e9b1c9",
   "metadata": {},
   "outputs": [
    {
     "name": "stdout",
     "output_type": "stream",
     "text": [
      "Enter a string:\"monika\"\n",
      "string is not palindrome\n"
     ]
    }
   ],
   "source": [
    "# Program to check if string is palindrome or not:\n",
    "#madam\n",
    "\n",
    "string = eval(input(\"Enter a string:\"))\n",
    "if string[::]==string[::-1]:\n",
    "    print(\"string is palindrome\")\n",
    "else:\n",
    "    print(\"string is not palindrome\")"
   ]
  },
  {
   "cell_type": "code",
   "execution_count": 93,
   "id": "4bd67f13",
   "metadata": {},
   "outputs": [
    {
     "data": {
      "text/plain": [
       "'monik$'"
      ]
     },
     "execution_count": 93,
     "metadata": {},
     "output_type": "execute_result"
    }
   ],
   "source": [
    "# Python Program to Replace all Occurrences of ‘a’ \n",
    "# with $ in a String:\n",
    "\n",
    "name = \"monika\"\n",
    "name.replace(\"a\",\"$\")"
   ]
  },
  {
   "cell_type": "code",
   "execution_count": 95,
   "id": "bdb2fc7b",
   "metadata": {},
   "outputs": [
    {
     "name": "stdout",
     "output_type": "stream",
     "text": [
      "5\n"
     ]
    }
   ],
   "source": [
    "# Python Program to Count the Number of Vowels \n",
    "# in a String\n",
    "name = \"monikaaa\"\n",
    "vowels = [\"a\",\"e\",\"i\",\"o\",\"u\"]\n",
    "count =0\n",
    "for i in name:\n",
    "    if i in vowels:\n",
    "        count+=1\n",
    "print(count)"
   ]
  },
  {
   "cell_type": "code",
   "execution_count": 3,
   "id": "1b757316",
   "metadata": {},
   "outputs": [
    {
     "name": "stdout",
     "output_type": "stream",
     "text": [
      "Total digits in the given string is/are: 2\n",
      "Total char in the given string is/are: 6\n"
     ]
    }
   ],
   "source": [
    "#  Count the number of digits & letter in a string:\n",
    "name = \"monika18\"\n",
    "num_count = 0\n",
    "char_count = 0\n",
    "for s in name:\n",
    "    if s.isdigit():\n",
    "        num_count+=1\n",
    "    else:\n",
    "        char_count+=1\n",
    "print(\"Total digits in the given string is/are:\", num_count)\n",
    "print(\"Total char in the given string is/are:\", char_count)"
   ]
  },
  {
   "cell_type": "code",
   "execution_count": 6,
   "id": "150c0569",
   "metadata": {},
   "outputs": [
    {
     "name": "stdout",
     "output_type": "stream",
     "text": [
      "Total lower char in the given string is/are: 10\n"
     ]
    }
   ],
   "source": [
    "# Count Number of Lowercase Characters in a String:\n",
    "string = \"My Name Is Monika\"\n",
    "count_l =0\n",
    "for i in string:\n",
    "    if i.islower():\n",
    "        count_l +=1\n",
    "print(\"Total lower char in the given string is/are:\",count_l)"
   ]
  },
  {
   "cell_type": "code",
   "execution_count": 9,
   "id": "ad2d2557",
   "metadata": {},
   "outputs": [
    {
     "name": "stdout",
     "output_type": "stream",
     "text": [
      "Yes\n"
     ]
    }
   ],
   "source": [
    "# Program to check if a Substring is Present in a Given String\n",
    "\n",
    "string = \"Monika Dogra is my name\"\n",
    "sub_string = \"name\"\n",
    "if sub_string in string:\n",
    "    print(\"Yes\")\n",
    "else:\n",
    "    print(\"No\")"
   ]
  },
  {
   "cell_type": "code",
   "execution_count": 1,
   "id": "fbf4c2c5",
   "metadata": {},
   "outputs": [],
   "source": [
    "# dir(str)"
   ]
  },
  {
   "cell_type": "code",
   "execution_count": null,
   "id": "007749f6",
   "metadata": {},
   "outputs": [],
   "source": [
    "Program to Find the Largest Number in a List:\n",
    "Program to Put Even and Odd elements in a List \n",
    "into Two Different Lists:\n",
    "Program to Read a List of Words and Return the \n",
    "Length of the Longest One:\n",
    "Create a List of Tuples with the First Element as \n",
    "the Number and Second Element as the Square \n",
    "of the Number:\n",
    "Program to Remove the Duplicate Items from a \n",
    "List"
   ]
  },
  {
   "cell_type": "code",
   "execution_count": 8,
   "id": "10e9b373",
   "metadata": {},
   "outputs": [
    {
     "data": {
      "text/plain": [
       "567"
      ]
     },
     "execution_count": 8,
     "metadata": {},
     "output_type": "execute_result"
    }
   ],
   "source": [
    "# Program to Find the Largest Number in a List\n",
    "from functools import reduce\n",
    "list_num = [23,45,1,2,4,567,234]\n",
    "\n",
    "result = reduce(lambda x,y: x if x>y else y, list_num)\n",
    "result"
   ]
  },
  {
   "cell_type": "code",
   "execution_count": 37,
   "id": "397f9ed8",
   "metadata": {},
   "outputs": [
    {
     "name": "stdout",
     "output_type": "stream",
     "text": [
      "567\n"
     ]
    }
   ],
   "source": [
    "list_num = [23,45,1,2,4,567,234]\n",
    "check_list = list_num[0]\n",
    "\n",
    "for num in range(0,len(list_num)):\n",
    "    if list_num[num] >check_list:\n",
    "        check_list = list_num[num]      \n",
    "    else:\n",
    "        pass\n",
    "print(check_list) "
   ]
  },
  {
   "cell_type": "code",
   "execution_count": 39,
   "id": "84d04aee",
   "metadata": {},
   "outputs": [
    {
     "name": "stdout",
     "output_type": "stream",
     "text": [
      "567\n"
     ]
    }
   ],
   "source": [
    "# dir(list)\n",
    "\n",
    "list_num = [23,45,1,2,4,567,234]\n",
    "\n",
    "for i in range(0,len(list_num)):\n",
    "    for j in range(1,len(list_num)):\n",
    "        if list_num[i]> list_num[j]:\n",
    "            list_num[j] = list_num[i]\n",
    "print(list_num[j])"
   ]
  },
  {
   "cell_type": "code",
   "execution_count": 41,
   "id": "66d665bf",
   "metadata": {},
   "outputs": [
    {
     "name": "stdout",
     "output_type": "stream",
     "text": [
      "even: [2, 4, 234]\n",
      "odd: [23, 45, 1, 567]\n"
     ]
    }
   ],
   "source": [
    "# Program to Put Even and Odd elements in a List \n",
    "# into Two Different Lists\n",
    "\n",
    "list_num = [23,45,1,2,4,567,234]\n",
    "odd_lst = []\n",
    "even_lst = []\n",
    "for num in list_num:\n",
    "    if num%2==0:\n",
    "        even_lst.append(num)\n",
    "    else:\n",
    "        odd_lst.append(num)        \n",
    "print(\"even:\",even_lst)\n",
    "print(\"odd:\",odd_lst)"
   ]
  },
  {
   "cell_type": "code",
   "execution_count": 46,
   "id": "2906083b",
   "metadata": {},
   "outputs": [
    {
     "name": "stdout",
     "output_type": "stream",
     "text": [
      "[23, 45, 1, 567]\n",
      "[2, 4, 234]\n"
     ]
    }
   ],
   "source": [
    "list_num = [23,45,1,2,4,567,234]\n",
    "odd_lst = []\n",
    "even_lst = []\n",
    "result =list(filter(lambda x: even_lst.append(x) if x%2==0 else odd_lst.append(x),list_num))\n",
    "print(odd_lst)\n",
    "print(even_lst)"
   ]
  },
  {
   "cell_type": "code",
   "execution_count": 51,
   "id": "00bac052",
   "metadata": {},
   "outputs": [
    {
     "name": "stdout",
     "output_type": "stream",
     "text": [
      "Enter a list of words:[\"Hello this is BTechGeeks  online platform\"]\n",
      "<class 'list'>\n"
     ]
    }
   ],
   "source": [
    "# Program to Read a List of Words and Return the \n",
    "# Length of the Longest One:\n",
    "input_list = eval(input(\"Enter a list of words:\"))\n",
    "print(type(input_list))"
   ]
  },
  {
   "cell_type": "code",
   "execution_count": 58,
   "id": "ad1eaae4",
   "metadata": {},
   "outputs": [
    {
     "name": "stdout",
     "output_type": "stream",
     "text": [
      "5\n",
      "BTechGeeks\n"
     ]
    }
   ],
   "source": [
    "word_list = [\"Hello\",\"this\",\"is\",\"BTechGeeks\",\"online\",\"platform\"]\n",
    "print(len(word_list[0]))\n",
    "\n",
    "result1 = reduce(lambda x,y: x if len(x)>len(y) else y, word_list)\n",
    "print(result1)"
   ]
  },
  {
   "cell_type": "code",
   "execution_count": 59,
   "id": "83097da8",
   "metadata": {},
   "outputs": [
    {
     "name": "stdout",
     "output_type": "stream",
     "text": [
      "[(23, 529), (45, 2025), (1, 1), (2, 4), (4, 16), (567, 321489), (234, 54756)]\n"
     ]
    }
   ],
   "source": [
    "# Create a List of Tuples with the First Element as \n",
    "# the Number and Second Element as the Square \n",
    "# of the Number:\n",
    "\n",
    "list_num = [23,45,1,2,4,567,234]\n",
    "\n",
    "show_result = [(x,x*x) for x in list_num]\n",
    "print(show_result)"
   ]
  },
  {
   "cell_type": "code",
   "execution_count": 60,
   "id": "e77fc65e",
   "metadata": {},
   "outputs": [
    {
     "name": "stdout",
     "output_type": "stream",
     "text": [
      "[(23, 529), (45, 2025), (1, 1), (2, 4), (4, 16), (567, 321489), (234, 54756)]\n"
     ]
    }
   ],
   "source": [
    "list_num = [23,45,1,2,4,567,234]\n",
    "\n",
    "show1 = list(map(lambda x:(x,x*x),list_num))\n",
    "print(show1)"
   ]
  },
  {
   "cell_type": "code",
   "execution_count": 61,
   "id": "c82833ca",
   "metadata": {},
   "outputs": [
    {
     "name": "stdout",
     "output_type": "stream",
     "text": [
      "{1, 2, 67, 4, 234, 45, 23}\n"
     ]
    }
   ],
   "source": [
    "# Program to Remove the Duplicate Items from a \n",
    "# List\n",
    "\n",
    "list_num = [23,45,1,2,4,4,2,23,45,67,234]\n",
    "set_items = set(list_num)\n",
    "print(set_items)"
   ]
  },
  {
   "cell_type": "code",
   "execution_count": 64,
   "id": "1e3c107b",
   "metadata": {},
   "outputs": [
    {
     "name": "stdout",
     "output_type": "stream",
     "text": [
      "[23, 45, 1, 2, 4, 67, 234]\n"
     ]
    }
   ],
   "source": [
    "list_num = [23,45,1,2,4,4,2,23,45,67,234]\n",
    "filtered_list = []\n",
    "for num in range(0,len(list_num)):     \n",
    "    if list_num[num] not in filtered_list:\n",
    "        filtered_list.append(list_num[num])\n",
    "print(filtered_list)"
   ]
  },
  {
   "cell_type": "code",
   "execution_count": 66,
   "id": "8f586e2a",
   "metadata": {},
   "outputs": [],
   "source": [
    "# dir(list)"
   ]
  },
  {
   "cell_type": "code",
   "execution_count": null,
   "id": "8d73caf3",
   "metadata": {},
   "outputs": [],
   "source": [
    "list.count()"
   ]
  },
  {
   "cell_type": "code",
   "execution_count": null,
   "id": "2476f4b3",
   "metadata": {},
   "outputs": [],
   "source": [
    "Program to Check if a Given Key Exists in a \n",
    "Dictionary or Not:\n",
    "Program to Sum All the Items in a Dictionary:\n",
    "Program to Remove the Given Key from a \n",
    "Dictionary:\n",
    "Write a Python program to iterate over dictionaries \n",
    "using for loops:\n",
    "Write a Python program to sort a dictionary by \n",
    "key"
   ]
  },
  {
   "cell_type": "code",
   "execution_count": 1,
   "id": "7028955b",
   "metadata": {},
   "outputs": [
    {
     "name": "stdout",
     "output_type": "stream",
     "text": [
      "dict_keys(['name', 'class', 'rollno'])\n"
     ]
    }
   ],
   "source": [
    "# Program to Check if a Given Key Exists in a \n",
    "# Dictionary or Not:\n",
    "\n",
    "dict_ = {'name':'Monika',\n",
    "        'class':7,\n",
    "        'rollno':101}\n",
    "print(dict_.keys())"
   ]
  },
  {
   "cell_type": "code",
   "execution_count": 2,
   "id": "44ea8d2c",
   "metadata": {},
   "outputs": [
    {
     "name": "stdout",
     "output_type": "stream",
     "text": [
      "{'name': 'Monika', 'class': 7, 'rollno': 101}\n"
     ]
    }
   ],
   "source": [
    "print(dict_)"
   ]
  },
  {
   "cell_type": "code",
   "execution_count": 9,
   "id": "25747130",
   "metadata": {},
   "outputs": [
    {
     "name": "stdout",
     "output_type": "stream",
     "text": [
      "yes\n"
     ]
    }
   ],
   "source": [
    "key_ = 'name'\n",
    "if key_ in dict_.keys():\n",
    "    print(\"yes\")\n",
    "else:\n",
    "    print(\"no\")\n",
    "    \n",
    "#OR \n",
    "    # for k in dict_.keys():\n",
    "#     if k in key_:\n",
    "#         print(\"yes\")\n",
    "#     else:\n",
    "#         print(\"no\")"
   ]
  },
  {
   "cell_type": "code",
   "execution_count": 14,
   "id": "99a46ada",
   "metadata": {},
   "outputs": [
    {
     "name": "stdout",
     "output_type": "stream",
     "text": [
      "231\n"
     ]
    }
   ],
   "source": [
    "# Program to Sum All the Items in a Dictionary:\n",
    "dict_1 = {'name':123,\n",
    "        'class':7,\n",
    "        'rollno':101}\n",
    "print(sum(dict_1.values()))"
   ]
  },
  {
   "cell_type": "code",
   "execution_count": 12,
   "id": "e2e19be0",
   "metadata": {},
   "outputs": [
    {
     "name": "stdout",
     "output_type": "stream",
     "text": [
      "Total sum of values in the dictionary :\n",
      "879\n"
     ]
    }
   ],
   "source": [
    "# dir(dict)\n",
    "d= {'A':100,'B':540,'C':239}\n",
    "print (\"Total sum of values in the dictionary :\")\n",
    "print (sum (d.values ()))\n"
   ]
  },
  {
   "cell_type": "code",
   "execution_count": 15,
   "id": "3f3479e2",
   "metadata": {},
   "outputs": [
    {
     "name": "stdout",
     "output_type": "stream",
     "text": [
      "key:A, value:100\n",
      "key:B, value:540\n",
      "key:C, value:239\n"
     ]
    }
   ],
   "source": [
    "# Write a Python program to iterate over dictionaries \n",
    "# using for loops:\n",
    "d= {'A':100,'B':540,'C':239}\n",
    "for k, v in d.items():\n",
    "    print(f\"key:{k}, value:{v}\")"
   ]
  },
  {
   "cell_type": "code",
   "execution_count": 26,
   "id": "06cb7942",
   "metadata": {},
   "outputs": [
    {
     "name": "stdout",
     "output_type": "stream",
     "text": [
      "[100, 239, 540]\n",
      "['A', 'B', 'C']\n"
     ]
    }
   ],
   "source": [
    "# Write a Python program to sort a dictionary by \n",
    "# key\n",
    "# dir(dict)\n",
    "d= {'A':100,'C':540,'B':239}\n",
    "print(sorted(d.values()))\n",
    "print(sorted(d))"
   ]
  },
  {
   "cell_type": "code",
   "execution_count": null,
   "id": "41010a8e",
   "metadata": {},
   "outputs": [],
   "source": [
    " Write a Python program to print the NumPy \n",
    "version in your system.\n",
    " Write a Python program to reverse an array \n",
    "(first element becomes last).\n",
    " Write a Python program to convert a list and \n",
    "tuple into arrays.\n",
    " Write a Python program to find common values \n",
    "between two arrays.\n",
    " Write a Python program compare two arrays \n",
    "using numpy.\n",
    " Write a Python program to change the \n",
    "dimension of an array.\n",
    " Write a Python program (using numpy) to sum \n",
    "of all the multiples of 3 or 5 below 100"
   ]
  },
  {
   "cell_type": "code",
   "execution_count": 27,
   "id": "85985150",
   "metadata": {},
   "outputs": [
    {
     "name": "stdout",
     "output_type": "stream",
     "text": [
      "1.21.5\n"
     ]
    }
   ],
   "source": [
    "# Write a Python program to print the NumPy \n",
    "# version in your system\n",
    "import numpy as np\n",
    "print(np.__version__)"
   ]
  },
  {
   "cell_type": "code",
   "execution_count": 30,
   "id": "2b1a07a6",
   "metadata": {},
   "outputs": [
    {
     "name": "stdout",
     "output_type": "stream",
     "text": [
      "[0 1 2 3 4 5 6 7 8 9]\n",
      "[9 8 7 6 5 4 3 2 1 0]\n"
     ]
    }
   ],
   "source": [
    "# Write a Python program to reverse an array \n",
    "# (first element becomes last)\n",
    "\n",
    "arr = np.arange(0,10)\n",
    "print(arr)\n",
    "print(arr[::-1])"
   ]
  },
  {
   "cell_type": "code",
   "execution_count": 37,
   "id": "16b5c525",
   "metadata": {},
   "outputs": [
    {
     "name": "stdout",
     "output_type": "stream",
     "text": [
      "[1 2 3 4 5 6 7 8]\n"
     ]
    }
   ],
   "source": [
    "# Write a Python program to convert a list and \n",
    "# tuple into arrays\n",
    "\n",
    "lst = [1, 2, 3, 4, 5, 6, 7, 8]\n",
    "print(np.asarray(lst))"
   ]
  },
  {
   "cell_type": "code",
   "execution_count": 38,
   "id": "bf184f79",
   "metadata": {},
   "outputs": [
    {
     "name": "stdout",
     "output_type": "stream",
     "text": [
      "[10 40]\n"
     ]
    }
   ],
   "source": [
    "# Write a Python program to find common values \n",
    "# between two arrays.\n",
    "array1 = np.array([0, 10, 20, 40, 60])\n",
    "array2 = [10, 30, 40]\n",
    "print(np.intersect1d(array1,array2))"
   ]
  },
  {
   "cell_type": "code",
   "execution_count": 44,
   "id": "12ccbbdb",
   "metadata": {},
   "outputs": [
    {
     "name": "stdout",
     "output_type": "stream",
     "text": [
      "[False False]\n",
      "[False False]\n",
      "[ True  True]\n",
      "[ True  True]\n"
     ]
    }
   ],
   "source": [
    "# Write a Python program compare two arrays \n",
    "# using numpy\n",
    "a = np.array([1, 2])\n",
    "b = np.array([4, 5])\n",
    "\n",
    "print(a>b)\n",
    "print(a>=b)\n",
    "print(a<=b)\n",
    "print(a<b)"
   ]
  },
  {
   "cell_type": "code",
   "execution_count": 62,
   "id": "06c460d4",
   "metadata": {},
   "outputs": [
    {
     "name": "stdout",
     "output_type": "stream",
     "text": [
      "6 rows and 0 columns\n",
      "(6,)\n",
      "[[1 2]\n",
      " [3 4]\n",
      " [5 6]]\n",
      "(3, 2)\n",
      "\n",
      "[[1 2]\n",
      " [3 4]\n",
      " [5 6]]\n",
      "[[1 2]\n",
      " [3 4]\n",
      " [5 6]]\n",
      "(3, 2)\n"
     ]
    }
   ],
   "source": [
    "# Write a Python program to change the \n",
    "# dimension of an array.\n",
    "x = np.array([1, 2, 3, 4, 5, 6])\n",
    "print(\"6 rows and 0 columns\")\n",
    "print(x.shape)\n",
    "x.shape =(3,2)\n",
    "print(x)\n",
    "print(x.shape)\n",
    "# OR\n",
    "print()\n",
    "print(np.reshape(x,(3,2)))\n",
    "y = np.reshape(x,(3,2))\n",
    "print(y)\n",
    "print(y.shape)"
   ]
  },
  {
   "cell_type": "code",
   "execution_count": 48,
   "id": "2f25ef24",
   "metadata": {},
   "outputs": [
    {
     "name": "stdout",
     "output_type": "stream",
     "text": [
      "Change array shape to (3, 3) -> 3 rows and 3 columns \n",
      "[[1 2 3]\n",
      " [4 5 6]\n",
      " [7 8 9]]\n"
     ]
    }
   ],
   "source": [
    "x = np.array([1,2,3,4,5,6,7,8,9])\n",
    "print(\"Change array shape to (3, 3) -> 3 rows and 3 columns \")\n",
    "x.shape = (3, 3)\n",
    "print(x)"
   ]
  },
  {
   "cell_type": "code",
   "execution_count": 52,
   "id": "aa8715fc",
   "metadata": {},
   "outputs": [
    {
     "data": {
      "text/plain": [
       "array([[1, 2],\n",
       "       [3, 4],\n",
       "       [5, 6]])"
      ]
     },
     "execution_count": 52,
     "metadata": {},
     "output_type": "execute_result"
    }
   ],
   "source": [
    "np.reshape(x,(3,2))"
   ]
  },
  {
   "cell_type": "code",
   "execution_count": 80,
   "id": "f9ea76db",
   "metadata": {},
   "outputs": [
    {
     "name": "stdout",
     "output_type": "stream",
     "text": [
      "[3, 5, 6, 9]\n"
     ]
    }
   ],
   "source": [
    "# Write a Python program (using numpy) to sum \n",
    "# of all the multiples of 3 or 5 below 100\n",
    "lst =  np.arange(1,10)\n",
    "# for i in lst:\n",
    "#     print(i)\n",
    "def check(num):\n",
    "    if num%3==0 or num%5==0:\n",
    "        return num\n",
    "    \n",
    "check = list(filter(check,lst))\n",
    "print(check)"
   ]
  },
  {
   "cell_type": "code",
   "execution_count": 82,
   "id": "7ec7195c",
   "metadata": {},
   "outputs": [
    {
     "name": "stdout",
     "output_type": "stream",
     "text": [
      "[3, 5, 6, 9]\n"
     ]
    }
   ],
   "source": [
    "check = list(filter(lambda x: x if x%3==0 or x%5==0 else None,lst))\n",
    "print(check)"
   ]
  },
  {
   "cell_type": "code",
   "execution_count": null,
   "id": "c8e70738",
   "metadata": {},
   "outputs": [],
   "source": []
  },
  {
   "cell_type": "code",
   "execution_count": null,
   "id": "ff5ea995",
   "metadata": {},
   "outputs": [],
   "source": []
  },
  {
   "cell_type": "code",
   "execution_count": null,
   "id": "c2604a06",
   "metadata": {},
   "outputs": [],
   "source": []
  },
  {
   "cell_type": "code",
   "execution_count": null,
   "id": "ab1c9db2",
   "metadata": {},
   "outputs": [],
   "source": []
  },
  {
   "cell_type": "code",
   "execution_count": null,
   "id": "1c8bf26e",
   "metadata": {},
   "outputs": [],
   "source": []
  },
  {
   "cell_type": "code",
   "execution_count": null,
   "id": "fdd902b5",
   "metadata": {},
   "outputs": [],
   "source": []
  },
  {
   "cell_type": "code",
   "execution_count": null,
   "id": "7f7d98bb",
   "metadata": {},
   "outputs": [],
   "source": []
  }
 ],
 "metadata": {
  "kernelspec": {
   "display_name": "Python 3 (ipykernel)",
   "language": "python",
   "name": "python3"
  },
  "language_info": {
   "codemirror_mode": {
    "name": "ipython",
    "version": 3
   },
   "file_extension": ".py",
   "mimetype": "text/x-python",
   "name": "python",
   "nbconvert_exporter": "python",
   "pygments_lexer": "ipython3",
   "version": "3.9.12"
  }
 },
 "nbformat": 4,
 "nbformat_minor": 5
}
